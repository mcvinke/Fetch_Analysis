version https://git-lfs.github.com/spec/v1
oid sha256:ffad24ccebd8144da52909e5cb1ccb5e2cfae3801c320ffd163767f6db3ef2d9
size 509362
